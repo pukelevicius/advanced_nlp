{
 "cells": [
  {
   "cell_type": "code",
   "execution_count": 2,
   "metadata": {},
   "outputs": [],
   "source": [
    "import spacy\n",
    "from collections import Counter\n",
    "\n",
    "#!python -m spacy download en_core_web_sm -q\n",
    "nlp = spacy.load(\"en_core_web_sm\")\n",
    "text = \"Narendra Modi was born in Vadnagar, Gujarat. He served as the 14th Prime Minister of India.\""
   ]
  },
  {
   "cell_type": "code",
   "execution_count": 5,
   "metadata": {},
   "outputs": [
    {
     "name": "stdout",
     "output_type": "stream",
     "text": [
      "{'Narendra': {'pos_tag': 'PROPN', 'named_entity_tag': 'PERSON', 'headword': 'Modi', 'dependency_relation': 'compound', 'path_to_root': ['Modi', 'born'], 'leftmost_child_pos': 'PROPN', 'rightmost_child_pos': 'PROPN', 'num_ancestors': 2, 'num_children': 0, 'polarity': 0.0, 'full_constituent': [], 'lemma': 'Narendra', 'is_stop': False, 'is_punct': False, 'word_frequency': 1, 'shape': 'Xxxxx', 'current_word': 'Narendra', 'next_word': 'Modi'}, 'Modi': {'pos_tag': 'PROPN', 'named_entity_tag': 'PERSON', 'headword': 'born', 'dependency_relation': 'nsubjpass', 'path_to_root': ['born'], 'leftmost_child_pos': 'PROPN', 'rightmost_child_pos': 'PROPN', 'num_ancestors': 1, 'num_children': 1, 'polarity': 0.0, 'full_constituent': ['Narendra'], 'lemma': 'Modi', 'is_stop': False, 'is_punct': False, 'word_frequency': 1, 'shape': 'Xxxx', 'current_word': 'Modi', 'next_word': 'was'}, 'was': {'pos_tag': 'AUX', 'named_entity_tag': 'O', 'headword': 'born', 'dependency_relation': 'auxpass', 'path_to_root': ['born'], 'leftmost_child_pos': 'AUX', 'rightmost_child_pos': 'AUX', 'num_ancestors': 1, 'num_children': 0, 'polarity': 0.0, 'full_constituent': [], 'lemma': 'be', 'is_stop': True, 'is_punct': False, 'word_frequency': 1, 'shape': 'xxx', 'current_word': 'was', 'next_word': 'born'}, 'born': {'pos_tag': 'VERB', 'named_entity_tag': 'O', 'headword': 'born', 'dependency_relation': 'ROOT', 'path_to_root': [], 'leftmost_child_pos': 'PROPN', 'rightmost_child_pos': 'PUNCT', 'num_ancestors': 0, 'num_children': 4, 'polarity': 0.0, 'full_constituent': ['Modi', 'was', 'in', '.'], 'lemma': 'bear', 'is_stop': False, 'is_punct': False, 'word_frequency': 1, 'shape': 'xxxx', 'current_word': 'born', 'next_word': 'in'}, 'in': {'pos_tag': 'ADP', 'named_entity_tag': 'O', 'headword': 'born', 'dependency_relation': 'prep', 'path_to_root': ['born'], 'leftmost_child_pos': 'ADP', 'rightmost_child_pos': 'PROPN', 'num_ancestors': 1, 'num_children': 1, 'polarity': 0.0, 'full_constituent': ['Vadnagar'], 'lemma': 'in', 'is_stop': True, 'is_punct': False, 'word_frequency': 1, 'shape': 'xx', 'current_word': 'in', 'next_word': 'Vadnagar'}, 'Vadnagar': {'pos_tag': 'PROPN', 'named_entity_tag': 'GPE', 'headword': 'in', 'dependency_relation': 'pobj', 'path_to_root': ['in', 'born'], 'leftmost_child_pos': 'PROPN', 'rightmost_child_pos': 'PROPN', 'num_ancestors': 2, 'num_children': 2, 'polarity': 0.0, 'full_constituent': [',', 'Gujarat'], 'lemma': 'Vadnagar', 'is_stop': False, 'is_punct': False, 'word_frequency': 1, 'shape': 'Xxxxx', 'current_word': 'Vadnagar', 'next_word': ','}, ',': {'pos_tag': 'PUNCT', 'named_entity_tag': 'O', 'headword': 'Vadnagar', 'dependency_relation': 'punct', 'path_to_root': ['Vadnagar', 'in', 'born'], 'leftmost_child_pos': 'PUNCT', 'rightmost_child_pos': 'PUNCT', 'num_ancestors': 3, 'num_children': 0, 'polarity': 0.0, 'full_constituent': [], 'lemma': ',', 'is_stop': False, 'is_punct': True, 'word_frequency': 1, 'shape': ',', 'current_word': ',', 'next_word': 'Gujarat'}, 'Gujarat': {'pos_tag': 'PROPN', 'named_entity_tag': 'GPE', 'headword': 'Vadnagar', 'dependency_relation': 'appos', 'path_to_root': ['Vadnagar', 'in', 'born'], 'leftmost_child_pos': 'PROPN', 'rightmost_child_pos': 'PROPN', 'num_ancestors': 3, 'num_children': 0, 'polarity': 0.0, 'full_constituent': [], 'lemma': 'Gujarat', 'is_stop': False, 'is_punct': False, 'word_frequency': 1, 'shape': 'Xxxxx', 'current_word': 'Gujarat', 'next_word': '.'}, '.': {'pos_tag': 'PUNCT', 'named_entity_tag': 'O', 'headword': 'served', 'dependency_relation': 'punct', 'path_to_root': ['served'], 'leftmost_child_pos': 'PUNCT', 'rightmost_child_pos': 'PUNCT', 'num_ancestors': 1, 'num_children': 0, 'polarity': 0.0, 'full_constituent': [], 'lemma': '.', 'is_stop': False, 'is_punct': True, 'word_frequency': 2, 'shape': '.', 'current_word': '.', 'next_word': None}, 'He': {'pos_tag': 'PRON', 'named_entity_tag': 'O', 'headword': 'served', 'dependency_relation': 'nsubj', 'path_to_root': ['served'], 'leftmost_child_pos': 'PRON', 'rightmost_child_pos': 'PRON', 'num_ancestors': 1, 'num_children': 0, 'polarity': 0.0, 'full_constituent': [], 'lemma': 'he', 'is_stop': True, 'is_punct': False, 'word_frequency': 1, 'shape': 'Xx', 'current_word': 'He', 'next_word': 'served'}, 'served': {'pos_tag': 'VERB', 'named_entity_tag': 'O', 'headword': 'served', 'dependency_relation': 'ROOT', 'path_to_root': [], 'leftmost_child_pos': 'PRON', 'rightmost_child_pos': 'PUNCT', 'num_ancestors': 0, 'num_children': 3, 'polarity': 0.0, 'full_constituent': ['He', 'as', '.'], 'lemma': 'serve', 'is_stop': False, 'is_punct': False, 'word_frequency': 1, 'shape': 'xxxx', 'current_word': 'served', 'next_word': 'as'}, 'as': {'pos_tag': 'ADP', 'named_entity_tag': 'O', 'headword': 'served', 'dependency_relation': 'prep', 'path_to_root': ['served'], 'leftmost_child_pos': 'ADP', 'rightmost_child_pos': 'PROPN', 'num_ancestors': 1, 'num_children': 1, 'polarity': 0.0, 'full_constituent': ['Minister'], 'lemma': 'as', 'is_stop': True, 'is_punct': False, 'word_frequency': 1, 'shape': 'xx', 'current_word': 'as', 'next_word': 'the'}, 'the': {'pos_tag': 'DET', 'named_entity_tag': 'O', 'headword': 'Minister', 'dependency_relation': 'det', 'path_to_root': ['Minister', 'as', 'served'], 'leftmost_child_pos': 'DET', 'rightmost_child_pos': 'DET', 'num_ancestors': 3, 'num_children': 0, 'polarity': 0.0, 'full_constituent': [], 'lemma': 'the', 'is_stop': True, 'is_punct': False, 'word_frequency': 1, 'shape': 'xxx', 'current_word': 'the', 'next_word': '14th'}, '14th': {'pos_tag': 'ADJ', 'named_entity_tag': 'ORDINAL', 'headword': 'Minister', 'dependency_relation': 'amod', 'path_to_root': ['Minister', 'as', 'served'], 'leftmost_child_pos': 'ADJ', 'rightmost_child_pos': 'ADJ', 'num_ancestors': 3, 'num_children': 0, 'polarity': 0.0, 'full_constituent': [], 'lemma': '14th', 'is_stop': False, 'is_punct': False, 'word_frequency': 1, 'shape': 'ddxx', 'current_word': '14th', 'next_word': 'Prime'}, 'Prime': {'pos_tag': 'PROPN', 'named_entity_tag': 'O', 'headword': 'Minister', 'dependency_relation': 'compound', 'path_to_root': ['Minister', 'as', 'served'], 'leftmost_child_pos': 'PROPN', 'rightmost_child_pos': 'PROPN', 'num_ancestors': 3, 'num_children': 0, 'polarity': 0.0, 'full_constituent': [], 'lemma': 'Prime', 'is_stop': False, 'is_punct': False, 'word_frequency': 1, 'shape': 'Xxxxx', 'current_word': 'Prime', 'next_word': 'Minister'}, 'Minister': {'pos_tag': 'PROPN', 'named_entity_tag': 'O', 'headword': 'as', 'dependency_relation': 'pobj', 'path_to_root': ['as', 'served'], 'leftmost_child_pos': 'DET', 'rightmost_child_pos': 'PROPN', 'num_ancestors': 2, 'num_children': 4, 'polarity': 0.0, 'full_constituent': ['the', '14th', 'Prime', 'of'], 'lemma': 'Minister', 'is_stop': False, 'is_punct': False, 'word_frequency': 1, 'shape': 'Xxxxx', 'current_word': 'Minister', 'next_word': 'of'}, 'of': {'pos_tag': 'ADP', 'named_entity_tag': 'O', 'headword': 'Minister', 'dependency_relation': 'prep', 'path_to_root': ['Minister', 'as', 'served'], 'leftmost_child_pos': 'ADP', 'rightmost_child_pos': 'PROPN', 'num_ancestors': 3, 'num_children': 1, 'polarity': 0.0, 'full_constituent': ['India'], 'lemma': 'of', 'is_stop': True, 'is_punct': False, 'word_frequency': 1, 'shape': 'xx', 'current_word': 'of', 'next_word': 'India'}, 'India': {'pos_tag': 'PROPN', 'named_entity_tag': 'GPE', 'headword': 'of', 'dependency_relation': 'pobj', 'path_to_root': ['of', 'Minister', 'as', 'served'], 'leftmost_child_pos': 'PROPN', 'rightmost_child_pos': 'PROPN', 'num_ancestors': 4, 'num_children': 0, 'polarity': 0.0, 'full_constituent': [], 'lemma': 'India', 'is_stop': False, 'is_punct': False, 'word_frequency': 1, 'shape': 'Xxxxx', 'current_word': 'India', 'next_word': '.'}}\n"
     ]
    }
   ],
   "source": [
    "def extract_features(sentence):\n",
    "    \"\"\"\n",
    "    Extracts various NLP features from a sentence.\n",
    "\n",
    "    Args:\n",
    "    sentence (str): The input sentence.\n",
    "\n",
    "    Returns:\n",
    "    dict: A dictionary containing POS tags, named entity tags, and dependency features and additional feattures for each word.\n",
    "    The dictionary has the following structure:\n",
    "    {   - pos_tags: POS tag of the word.\n",
    "        - named_entity_tags: Named entity tag of the word.\n",
    "        - headword: The headword of the token.\n",
    "        - dependency_relation: The dependency relation of the token.\n",
    "        - path_to_root: The path to the root of the token.\n",
    "        - leftmost_child_pos: The POS of the leftmost child of the token.\n",
    "        - rightmost_child_pos: The POS of the rightmost child of the token.\n",
    "        - num_ancestors: The number of ancestors of the token.\n",
    "        - num_children: The number of children of the token.\n",
    "        - polarity: The polarity of the token.\n",
    "        - word_frequency: The frequency of a word in text.\n",
    "        - shape: A transformation of the token text into a form that generalizes the case of each character.\n",
    "        - current_word: current word.\n",
    "        - next_word: next word (bigram).\n",
    "    }\n",
    "    \"\"\"\n",
    "    doc = nlp(sentence)\n",
    "    features = {}\n",
    "\n",
    "    # Count word frequencies in the sentence\n",
    "    word_freq = Counter([token.text for token in doc])\n",
    "    \n",
    "    for i,token in enumerate(doc):\n",
    "\n",
    "        next_word = doc[i + 1].text if i + 1 < len(doc) else None\n",
    "\n",
    "        features[token.text] = {\n",
    "            'pos_tag': token.pos_,\n",
    "            'named_entity_tag': token.ent_type_ if token.ent_type_ else 'O', # 'O' means 'Other' or no named entity tag\n",
    "            'headword': token.head.text,\n",
    "            'dependency_relation': token.dep_,\n",
    "            'path_to_root': [t.text for t in token.ancestors],\n",
    "            'leftmost_child_pos': token.left_edge.pos_ if token.left_edge else None,\n",
    "            'rightmost_child_pos': token.right_edge.pos_ if token.right_edge else None,\n",
    "            'num_ancestors': len(list(token.ancestors)),\n",
    "            'num_children': len(list(token.children)),\n",
    "            'polarity': token.sentiment,\n",
    "            'full_constituent': [child.text for child in token.children],\n",
    "            'lemma': token.lemma_,\n",
    "            'is_stop': token.is_stop,\n",
    "            'is_punct': token.is_punct,\n",
    "            'word_frequency': word_freq[token.text], \n",
    "            'shape': token.shape_,\n",
    "            'current_word': token.text,\n",
    "            'next_word': next_word   \n",
    "        }\n",
    "    return features\n",
    "\n",
    "res = extract_features(text)\n",
    "print(res)"
   ]
  }
 ],
 "metadata": {
  "kernelspec": {
   "display_name": "vtransformers",
   "language": "python",
   "name": "python3"
  },
  "language_info": {
   "codemirror_mode": {
    "name": "ipython",
    "version": 3
   },
   "file_extension": ".py",
   "mimetype": "text/x-python",
   "name": "python",
   "nbconvert_exporter": "python",
   "pygments_lexer": "ipython3",
   "version": "3.10.7"
  }
 },
 "nbformat": 4,
 "nbformat_minor": 2
}
